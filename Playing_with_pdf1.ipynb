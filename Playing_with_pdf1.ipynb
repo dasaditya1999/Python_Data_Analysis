{
 "cells": [
  {
   "cell_type": "code",
   "execution_count": null,
   "id": "650e6ca6",
   "metadata": {},
   "outputs": [],
   "source": [
    "pip install PyPDF2"
   ]
  },
  {
   "cell_type": "code",
   "execution_count": 1,
   "id": "2a036217",
   "metadata": {},
   "outputs": [],
   "source": [
    "import PyPDF2"
   ]
  },
  {
   "cell_type": "code",
   "execution_count": 2,
   "id": "6ad8e2c2",
   "metadata": {},
   "outputs": [],
   "source": [
    "pdf_file = open('BBSR_BENGALURU_12THOCT_TICKET.pdf', 'rb')"
   ]
  },
  {
   "cell_type": "code",
   "execution_count": 3,
   "id": "9419a552",
   "metadata": {},
   "outputs": [
    {
     "data": {
      "text/plain": [
       "<_io.BufferedReader name='BBSR_BENGALURU_12THOCT_TICKET.pdf'>"
      ]
     },
     "execution_count": 3,
     "metadata": {},
     "output_type": "execute_result"
    }
   ],
   "source": [
    "pdf_file"
   ]
  },
  {
   "cell_type": "code",
   "execution_count": 4,
   "id": "75908c50",
   "metadata": {},
   "outputs": [],
   "source": [
    "pdf_reader = PyPDF2.PdfFileReader(pdf_file)"
   ]
  },
  {
   "cell_type": "code",
   "execution_count": 5,
   "id": "c90aac8d",
   "metadata": {},
   "outputs": [
    {
     "data": {
      "text/plain": [
       "2"
      ]
     },
     "execution_count": 5,
     "metadata": {},
     "output_type": "execute_result"
    }
   ],
   "source": [
    "pdf_reader.numPages"
   ]
  },
  {
   "cell_type": "code",
   "execution_count": 6,
   "id": "78c3c0e9",
   "metadata": {},
   "outputs": [],
   "source": [
    "pageobject = pdf_reader.getPage(1)"
   ]
  },
  {
   "cell_type": "code",
   "execution_count": 7,
   "id": "d3171115",
   "metadata": {},
   "outputs": [
    {
     "data": {
      "text/plain": [
       "'INSTRUC TIONS:\\n1. Prescribed Original ID proofs are:- Voter Iden \\x00ty Card / Passport / PAN Card / Driving License / Phot o ID card issued by Central / State Govt. / Public\\nSect or Undert akings of State / Central Governmen t ,District Adminis tra\\x00ons , Municipal bodies and Pancha yat Adminis tra\\x00ons which are having serial\\nnumber / Studen t Iden \\x00ty Card with phot ograph issued by recogniz ed School or Colleg e for their studen ts / Na\\x00onaliz ed Bank Passbook with phot ograph\\n/Credit Cards issued by Bank s with lamina ted phot ograph/Unique Iden \\x00ﬁca\\x00on Card \"Aadhaar\", m-Aadhaar , e-Aadhaar . /Passeng er showing the\\nAadhaar/Driving Licence from the \"Issued Documen t\" sec\\x00on by logging into his/her DigiLock er account consider ed as valid proof of iden \\x00ty. (Documen ts\\nuploaded b y the user i.e. the documen t in \"Uploaded Documen t\" sec\\x00on will not be c onsider ed as a v alid pr oof of iden \\x00ty).\\n2. PNRs having fully waitlis ted status will be dropped and automa \\x00c refund of the booking amoun t shall be credited to the account used for paymen t for\\nbooking of the \\x00cket. Passeng ers having fully waitlisted e-\\x00ck et are not allowed to boar d the train. However, the names of PARTIALL Y\\nwaitlis ted/conﬁrmed and RA C \\x00ck et passeng er will appear in the chart and will be allo wed to boar d the tr ain.\\n3. Passeng ers travelling on a fully w aitlis ted e-\\x00ck et will be tr eated as Tick etless.\\n4. Obtain cer\\x00ﬁc ate from the TTE /Conduct or in case of (a) PARTIALL Y waitlis ted e-\\x00ck et when LESS NO. OF PASSENGER S travel, (b)A .C FAILURE, (c)TRA VEL IN\\nLOWER CLASS. This original cer\\x00ﬁc ate mus t be sen t to GGM (IT), IR CTC, Interne t Tick e\\x00ng Cen tre, IR CA Building , State En try Road, Ne w Delhi-110055 a \\x00er\\nﬁling TDR online within pr escribed \\x00me f or claiming r efund.\\n5. In case, on a party e-\\x00ck et or a family e-\\x00ck et issued for travel of more than one passeng er, some passeng ers have conﬁrmed reser va\\x00on and other s are\\non RAC or wai\\x00ng list, full refund of fare, less clerk age, shall be admissible for conﬁrmed passeng ers also subject to the condi\\x00on that the \\x00cket shall be\\ncancelled online or online TDR shall be ﬁled f or all the passeng ers upto thirty minut es be fore the scheduled departur e of the tr ain.\\n6. In case of train cancella \\x00on on its en\\x00re run, full refund is granted automa \\x00cally by the system. However, if the train is cancelled par\\x00ally on its run or\\ndiverted and not touching boar ding /des \\x00na\\x00on sta\\x00on, passeng ers are requir ed to ﬁle online TDR within 72 hours of scheduled departur e of the train\\nfrom passeng ers boar ding s ta\\x00on.\\n7. Never purchase e-\\x00ck et from unauthoriz ed agents or persons using their personal IDs for commer cial purposes. Such \\x00ckets are liable to be cancelled and\\nforfeited without any refund  of mone y, under sec\\x00on (143) of the Indian Railw ay Act 1989. List of authoriz ed agents are available on www.irctc.co.in\\nunder \\'Find NGe t Agents\\' op \\x00on.\\n8. For de tail, Rules, R efund rules, T erms & Condi\\x00ons of E -Tick e\\x00ng ser vices, T ravel Insur ance f acility e tc. Please visit w ww.irctc.co.in\\n9. While booking this \\x00cket, you have agreed of having read the Health Protocol of Des\\x00na\\x00on State of your travel. You are again advised to clearly read the\\nHealth Pr otocol advisor y of des \\x00na\\x00on s tate be fore start of y our tr avel and f ollow them pr operly .\\n10. The FIR f orms ar e available with on boar d \\x00ck et checking s taﬀ, train guar d and tr ain esc or\\x00ng RPF /GRP s taﬀ.\\n11. Variety of meals available in more than 1500 trains. For deliv ery of meal of your choice on your seat log on to www.ecatering.ir ctc.co.in or call 1323 Toll\\nFree. F or an y sug ges\\x00ons/ complain ts related to Ca tering ser vices, c ontact T oll Fr ee No. 1800-111-321 (07.00 hr s to 22.00 hr s)\\n12. Na\\x00onal Consumer Helpline (NCH) T oll Fr ee Number: 1800-11-400 or 14404\\n13. You can book unr eser ved \\x00ck et from UT S APP or A TVMs (Aut oma \\x00c Tick et Vending Machines) loc ated in Railw ay Sta\\x00ons.\\nContact us on: - c are@ir ctc.co.in OR 24*7 Hr s Cus tomer Support a t 14646 OR 0755-6610661, 0755-4090600\\nPrint ERS W ithout Advertisements [X]'"
      ]
     },
     "execution_count": 7,
     "metadata": {},
     "output_type": "execute_result"
    }
   ],
   "source": [
    "pageobject.extract_text()"
   ]
  },
  {
   "cell_type": "code",
   "execution_count": null,
   "id": "f9f8a87b",
   "metadata": {},
   "outputs": [],
   "source": []
  }
 ],
 "metadata": {
  "kernelspec": {
   "display_name": "Python 3 (ipykernel)",
   "language": "python",
   "name": "python3"
  },
  "language_info": {
   "codemirror_mode": {
    "name": "ipython",
    "version": 3
   },
   "file_extension": ".py",
   "mimetype": "text/x-python",
   "name": "python",
   "nbconvert_exporter": "python",
   "pygments_lexer": "ipython3",
   "version": "3.9.7"
  }
 },
 "nbformat": 4,
 "nbformat_minor": 5
}

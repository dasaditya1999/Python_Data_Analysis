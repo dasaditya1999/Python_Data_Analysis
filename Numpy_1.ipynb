{
 "cells": [
  {
   "cell_type": "code",
   "execution_count": 1,
   "metadata": {},
   "outputs": [
    {
     "data": {
      "text/plain": [
       "'C:\\\\Users\\\\Aditya\\\\Downloads\\\\Numpy_Pandas'"
      ]
     },
     "execution_count": 1,
     "metadata": {},
     "output_type": "execute_result"
    }
   ],
   "source": [
    "pwd"
   ]
  },
  {
   "cell_type": "code",
   "execution_count": 23,
   "metadata": {},
   "outputs": [
    {
     "name": "stdout",
     "output_type": "stream",
     "text": [
      "C:\\Users\\Aditya\\Downloads\\Numpy_Pandas\\Numpy_1\n"
     ]
    }
   ],
   "source": [
    "import os\n",
    "os.getcwd()\n",
    "os.chdir('../')\n",
    "os.getcwd()\n",
    "os.chdir('C:\\\\Users\\\\Aditya\\\\Downloads\\\\Numpy_Pandas')\n",
    "os.getcwd()\n",
    "list_dir = os.listdir(os.getcwd())\n",
    "list_dir\n",
    "location = \"C:\\\\Users\\\\Aditya\\\\Downloads\\\\Numpy_Pandas\"\n",
    "file = 'Numpy_1'\n",
    "path = os.path.join(location, file)\n",
    "print(path)"
   ]
  },
  {
   "cell_type": "code",
   "execution_count": 32,
   "metadata": {},
   "outputs": [
    {
     "name": "stdout",
     "output_type": "stream",
     "text": [
      "problem in reading filename: Untitled.ipynb\n",
      "hello\n"
     ]
    }
   ],
   "source": [
    "file = 'Untitled.ipynb'\n",
    "try:\n",
    "    os.remove(file)\n",
    "#     os.rmdir()\n",
    "except IOError:\n",
    "    print('problem in reading filename: '+file)\n",
    "print('hello')"
   ]
  },
  {
   "cell_type": "code",
   "execution_count": 27,
   "metadata": {},
   "outputs": [
    {
     "data": {
      "text/plain": [
       "'nt'"
      ]
     },
     "execution_count": 27,
     "metadata": {},
     "output_type": "execute_result"
    }
   ],
   "source": [
    "os.name"
   ]
  },
  {
   "cell_type": "code",
   "execution_count": null,
   "metadata": {},
   "outputs": [],
   "source": [
    "file_name = ''\n",
    "os.popen(file_name)\n",
    "os.close(file_name)"
   ]
  },
  {
   "cell_type": "code",
   "execution_count": null,
   "metadata": {},
   "outputs": [],
   "source": [
    "os.rename(file_name, 'new_name.extension')\n",
    "os.remove(file_name)\n",
    "os.path.exits('full path of the file')"
   ]
  },
  {
   "cell_type": "code",
   "execution_count": 35,
   "metadata": {},
   "outputs": [
    {
     "data": {
      "text/plain": [
       "3005"
      ]
     },
     "execution_count": 35,
     "metadata": {},
     "output_type": "execute_result"
    }
   ],
   "source": [
    "# Returns the size of the file in bytes\n",
    "os.path.getsize('Numpy_1.ipynb') "
   ]
  }
 ],
 "metadata": {
  "kernelspec": {
   "display_name": "Python 3",
   "language": "python",
   "name": "python3"
  },
  "language_info": {
   "codemirror_mode": {
    "name": "ipython",
    "version": 3
   },
   "file_extension": ".py",
   "mimetype": "text/x-python",
   "name": "python",
   "nbconvert_exporter": "python",
   "pygments_lexer": "ipython3",
   "version": "3.6.6"
  }
 },
 "nbformat": 4,
 "nbformat_minor": 2
}
